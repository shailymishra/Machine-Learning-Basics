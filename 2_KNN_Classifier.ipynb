{
  "nbformat": 4,
  "nbformat_minor": 0,
  "metadata": {
    "colab": {
      "name": "2. KNN Classifier.ipynb",
      "provenance": [],
      "collapsed_sections": [],
      "authorship_tag": "ABX9TyP5l4um83Imn95ptpukzHIt",
      "include_colab_link": true
    },
    "kernelspec": {
      "name": "python3",
      "display_name": "Python 3"
    },
    "language_info": {
      "name": "python"
    }
  },
  "cells": [
    {
      "cell_type": "markdown",
      "metadata": {
        "id": "view-in-github",
        "colab_type": "text"
      },
      "source": [
        "<a href=\"https://colab.research.google.com/github/shailymishra/Machine-Learning-Concepts/blob/master/2_KNN_Classifier.ipynb\" target=\"_parent\"><img src=\"https://colab.research.google.com/assets/colab-badge.svg\" alt=\"Open In Colab\"/></a>"
      ]
    },
    {
      "cell_type": "markdown",
      "metadata": {
        "id": "ddvlzW5aHE2r"
      },
      "source": [
        "## K-nearest \n",
        "1) What is K-nearest neighbors? \n",
        "\n",
        "8) Pseudocode\n",
        "\n",
        "2) What should be the value of k? what happens when k is too less or too large? what happens with a tie, i.e. two points with same distance?\n",
        "\n",
        "\n",
        "3) How does distance functions affect? when to chose to which norm? distance is equivalent to similarity, so for example in case of cricketers problems how do you calculate similarity between them?  - weighted distance functions? cosine similarity?\n",
        "\n",
        "3) problems with practical implementation? can we decrease the complexity?\n",
        "\n",
        "5)Any practical application using k-nearest? \n",
        "Thoughts:\n",
        "\n",
        "6)Benefits/Drawbacks\n",
        "\n",
        "7) What are the practical issues in implementing this\n",
        "algorithm for spam filters on gmail? \n",
        "\n",
        "\n",
        "9) Classification / Regression\n",
        "\n",
        "10) Multiclass classification using KNN? what should be the value of K\n",
        "\n",
        "11) Ways to make the computation faster => calculating distance can be done as matrix operation instead of loop. (algorithm variations)\n",
        "\n",
        "12)  time complexity of this algorithm\n"
      ]
    },
    {
      "cell_type": "code",
      "metadata": {
        "id": "N1qG2RohHKt7"
      },
      "source": [
        "## first is self implementation and then at the last of the notebook there's python lib implementation\n",
        "## and the answer to the following question is at the end\n",
        "import numpy as np\n",
        "import pandas as pd\n",
        "import matplotlib.pyplot as plt\n",
        "from sklearn.datasets import load_digits\n",
        "from sklearn import datasets\n",
        "from sklearn.model_selection import train_test_split\n",
        "\n",
        "%matplotlib inline"
      ],
      "execution_count": null,
      "outputs": []
    },
    {
      "cell_type": "code",
      "metadata": {
        "id": "2Z5mpzmTdL6q"
      },
      "source": [
        "## F(v) = (v - mean) / std\n",
        "def preprocessing(data):\n",
        "    max = np.max(data[:,:-1])\n",
        "    data[:,:-1] = data[:,:-1]/max\n",
        "    return \n",
        "\n",
        "def load_data():\n",
        "  iris = datasets.load_iris()\n",
        "  X = iris.data\n",
        "  y = iris.target\n",
        "  X_train, X_test, y_train, y_test = train_test_split(X, y)\n",
        "\n",
        "  print(f'X_train shape: {X_train.shape}')\n",
        "  print(f'y_train shape: {y_train.shape}')\n",
        "  print(f'X_test shape: {X_test.shape}')\n",
        "  print(f'y_test shape: {y_test.shape}')\n",
        "  return X_train,y_train,X_test,y_test"
      ],
      "execution_count": null,
      "outputs": []
    },
    {
      "cell_type": "code",
      "metadata": {
        "id": "ltaQ6dnKLRNJ"
      },
      "source": [
        "#### Distance Functions\n",
        "def euclidean(x1, x2):\n",
        "    return np.sqrt(np.sum((x1-x2)**2))\n",
        "\n",
        "\n",
        "\n",
        "### Define any distance function according to need\n",
        "def distancefunction(x1,x2,distancemetric='euclidean'):\n",
        "   return globals()[distancemetric](x1,x2)\n"
      ],
      "execution_count": null,
      "outputs": []
    },
    {
      "cell_type": "code",
      "metadata": {
        "id": "4-dXsMK_v9fd"
      },
      "source": [
        "class KNN:\n",
        "\n",
        "    def __init__(self, K=3, distancemetric = 'euclidean'):\n",
        "        \"\"\"\n",
        "        Intialize the value of K and distancemetric\n",
        "        \"\"\"\n",
        "        self.K = K\n",
        "        self.distancemetric = distancemetric\n",
        "\n",
        "    def train(self, X, y):\n",
        "      \"\"\"\n",
        "      In KNN, as it is lazy learning, in training => we just memorize the training data.\n",
        "      Inputs:\n",
        "      - X: (nxd) - numpy array containing the training data; n is the number of samples and d is the dim\n",
        "      - y: (nx,) - numpy array containing the label of training data\n",
        "      \"\"\"\n",
        "      self.X_train = X\n",
        "      self.y_train = y\n",
        "\n",
        "\n",
        "    def predict(self, X_test):\n",
        "        \"\"\"\n",
        "        Returns the prediction of X_test\n",
        "\n",
        "        Input: X_test (n x d) => numpy array of nxd dimension\n",
        "        Output: y_test (nx,) => numpay array of n dimension\n",
        "        This method first calculate the distance of a datapoint with all the training points, sorts it, and then select the datapoint of top K distance\n",
        "        \"\"\"\n",
        "        predictions = [] \n",
        "        for i in range(len(X_test)):\n",
        "            # Find distance of a test datapoint with all the training samples\n",
        "            dist = np.array([distancefunction(X_test[i], X_train_sample) for X_train_sample in  self.X_train])\n",
        "            # Using argsort to sort the distance and return the idx of those training samples. and then pick the top K\n",
        "            nearest_k_samples= dist.argsort()[:self.K]\n",
        "            neigh_labels = self.y_train[nearest_k_samples]\n",
        "            uniquelabels, labelcount = np.unique(neigh_labels, return_counts=True)\n",
        "\n",
        "            predictions.append(uniquelabels[np.argmax(labelcount)])\n",
        "        return np.array(predictions)"
      ],
      "execution_count": null,
      "outputs": []
    },
    {
      "cell_type": "code",
      "metadata": {
        "id": "gXNk2w4HZdzs"
      },
      "source": [
        "### Performance metric\n",
        "def calculate_accuracy(y_true,y_pred):\n",
        "  return np.sum(y_pred == y_true)/len(y_pred) * 100\n",
        "\n",
        "def calculate_error(y_true,y_pred):\n",
        "  return np.mean(y_pred != y_true)\n",
        "\n",
        "\n"
      ],
      "execution_count": null,
      "outputs": []
    },
    {
      "cell_type": "code",
      "metadata": {
        "colab": {
          "base_uri": "https://localhost:8080/",
          "height": 491
        },
        "id": "ybCGx9ksMnAR",
        "outputId": "efbfefd4-86cb-498b-fd2d-de9e34157d94"
      },
      "source": [
        "#### KNN Classifier Testing\n",
        "### Load the data\n",
        "X_train,y_train,X_test,y_test  = load_data()\n",
        "\n",
        "error = []\n",
        "for i in range(1, 40,2):\n",
        "    knn = KNN(K=i)\n",
        "    knn.train(X_train, y_train)\n",
        "    y_pred = knn.predict(X_test)\n",
        "    error.append(np.mean(y_pred != y_test))\n",
        "\n",
        "\n",
        "plt.figure(figsize=(12, 6))\n",
        "plt.plot(range(1, 40,2), error, color='red', linestyle='dashed', marker='o',\n",
        "         markerfacecolor='black', markersize=5)\n",
        "plt.title('Error Rate K Value')\n",
        "plt.xlabel('K Value')\n",
        "plt.ylabel('Mean Error')"
      ],
      "execution_count": null,
      "outputs": [
        {
          "output_type": "stream",
          "name": "stdout",
          "text": [
            "X_train shape: (112, 4)\n",
            "y_train shape: (112,)\n",
            "X_test shape: (38, 4)\n",
            "y_test shape: (38,)\n"
          ]
        },
        {
          "output_type": "execute_result",
          "data": {
            "text/plain": [
              "Text(0, 0.5, 'Mean Error')"
            ]
          },
          "metadata": {},
          "execution_count": 41
        },
        {
          "output_type": "display_data",
          "data": {
            "image/png": "[encoded data removed]",
            "text/plain": [
              "<Figure size 864x432 with 1 Axes>"
            ]
          },
          "metadata": {
            "needs_background": "light"
          }
        }
      ]
    },
    {
      "cell_type": "code",
      "metadata": {
        "id": "63M5kAvZxmOG",
        "colab": {
          "base_uri": "https://localhost:8080/"
        },
        "outputId": "b84c558e-8467-44f7-e28f-f1cc4ef7707a"
      },
      "source": [
        "######## Optimal K ###############\n",
        "#################################\n",
        "### Call the classifier\n",
        "classifier = KNN(23)\n",
        "# ### Train, i.e. memorizing training samples\n",
        "classifier.train(X_train, y_train)\n",
        "# ### Predict the test samples\n",
        "y_test_pred = classifier.predict(X_test)\n",
        "\n",
        "print(f\"Test accuracy with k = 23: {format(calculate_accuracy(y_test,y_test_pred))}\")\n",
        "\n"
      ],
      "execution_count": null,
      "outputs": [
        {
          "output_type": "stream",
          "name": "stdout",
          "text": [
            "Test accuracy with k = 11: 97.36842105263158\n"
          ]
        }
      ]
    },
    {
      "cell_type": "code",
      "metadata": {
        "id": "tM_c3MrTTY3x",
        "colab": {
          "base_uri": "https://localhost:8080/",
          "height": 647
        },
        "outputId": "827eae73-8d4d-45b0-a9e5-f04c915951c9"
      },
      "source": [
        "################################################################################\n",
        "# KNN using Python Inbuilt  Function                                           #\n",
        "# 1. Preprocessing data                                                        #\n",
        "# 2. Call classifier, fit, test                                                #\n",
        "# 3. plot error/accuracy to find optimal K                                     #\n",
        "################################################################################\n",
        "\n",
        "\n",
        "### Preprocessing data\n",
        "from sklearn.preprocessing import StandardScaler\n",
        "scaler = StandardScaler()\n",
        "scaler.fit(X_train)\n",
        "X_train = scaler.transform(X_train)\n",
        "X_test = scaler.transform(X_test)\n",
        "\n",
        "### KNN\n",
        "from sklearn.neighbors import KNeighborsClassifier\n",
        "classifier = KNeighborsClassifier(n_neighbors=5)\n",
        "classifier.fit(X_train, y_train)\n",
        "y_pred = classifier.predict(X_test)\n",
        "\n",
        "#### Performance metric\n",
        "from sklearn.metrics import classification_report, confusion_matrix\n",
        "print(confusion_matrix(y_test, y_pred))\n",
        "print(classification_report(y_test, y_pred))\n",
        "\n",
        "error = []\n",
        "\n",
        "for i in range(1, 40,2):\n",
        "    knn = KNeighborsClassifier(n_neighbors=i)\n",
        "    knn.fit(X_train, y_train)\n",
        "    pred_i = knn.predict(X_test)\n",
        "    error.append(np.mean(pred_i != y_test))\n",
        "\n",
        "plt.figure(figsize=(12, 6))\n",
        "plt.plot(range(1, 40,2), error, color='red', linestyle='dashed', marker='o',\n",
        "         markerfacecolor='blue', markersize=10)\n",
        "plt.title('Error Rate K Value')\n",
        "plt.xlabel('K Value')\n",
        "plt.ylabel('Mean Error')"
      ],
      "execution_count": null,
      "outputs": [
        {
          "output_type": "stream",
          "name": "stdout",
          "text": [
            "[[11  0  0]\n",
            " [ 0 13  0]\n",
            " [ 0  2 12]]\n",
            "              precision    recall  f1-score   support\n",
            "\n",
            "           0       1.00      1.00      1.00        11\n",
            "           1       0.87      1.00      0.93        13\n",
            "           2       1.00      0.86      0.92        14\n",
            "\n",
            "    accuracy                           0.95        38\n",
            "   macro avg       0.96      0.95      0.95        38\n",
            "weighted avg       0.95      0.95      0.95        38\n",
            "\n"
          ]
        },
        {
          "output_type": "execute_result",
          "data": {
            "text/plain": [
              "Text(0, 0.5, 'Mean Error')"
            ]
          },
          "metadata": {},
          "execution_count": 22
        },
        {
          "output_type": "display_data",
          "data": {
            "image/png": "[encoded data removed]",
            "text/plain": [
              "<Figure size 864x432 with 1 Axes>"
            ]
          },
          "metadata": {
            "needs_background": "light"
          }
        }
      ]
    },
    {
      "cell_type": "markdown",
      "metadata": {
        "id": "N8glEBuxb1kf"
      },
      "source": [
        "## Answers from various sources\n",
        "\n",
        "1) K-Nearest Neighbour is a simple algorithm that stores all available cases and classifies new cases based on a similarity measure. K-Nearest Neighbours can be used for both classification and regression. \n",
        "\n",
        "- NEAREST NEIGHBOURS (LAZY LEARNERS)\n",
        "\t- say there is a point q, and if it is near to apple points then its is apple. else it is a orange. \n",
        "\t- why lazy learners, because you give point and then it commutes all distance to other points, and then sorts them, and then decides. so its lazy, it works only when given point\n",
        "\t- No offline work\n",
        "\t- Non parametric algorithm (doesn't have training time, but inference time is much higher)\n",
        "\n",
        "2) Pseudocode\n",
        "- Load the data\n",
        "- Initialize the value of k\n",
        "- Calculate the distance between test data and each row of training data. Here we will use Euclidean distance as our distance metric since it’s the most popular method. The other metrics that can be used are Chebyshev, cosine, etc.\n",
        "- Sort the calculated distances in ascending order based on distance values\n",
        "- Get top k rows from the sorted array\n",
        "- Get the most frequent class of these rows\n",
        "- Return the predicted class\n",
        "\n",
        "2) What should be the value of k? what happens when k is too less or too large? what happens with a tie, i.e. two points with same distance?\n",
        "- ideally we plot the error vs K (using K-Fold technique) to find the optimal K. \n",
        "- K value should be odd => to avoid ties. and K value should not be equal to the number of class. \n",
        "- if K is too less, (k=1), training error is zero. as we take distance of all points from training datasets, and k=1 means zero training error. so the model is overfitting.\n",
        "  - overfitting\n",
        "  - sensitive to noise\n",
        "  - overfitting can never generalize\n",
        "- If k is too high, the training error is more. and so it is underfitting. \n",
        "  - underfitting (high bias)\n",
        "  - if we have 10000 samples of classA and just 1000 class of classB, so if k is too high, then chances are it will class it as ClassA. Highly biased.\n",
        "\n",
        "\n",
        "3) How does distance functions affect? when to chose to which norm? distance is equivalent to similarity, so for example in case of cricketers problems how do you calculate similarity between them?  - weighted distance functions? cosine similarity?\n",
        "\n",
        "- In the distance-weighted KNN, you’re basically emphasizing more on the values closer to your test value and less on the values that are far away and similarly assigning the weightage to each of them.\n",
        "- Since we’ve given equal weightage to all our features in the traditional KNN, let’s try to assign different weightage to each of them in this variation. The important features would have a greater weightage while the less important ones would have a lower weightage and the least important ones would have weightage as 0 or close to 0.\n",
        "\n",
        "Ways to measure distances\n",
        "- Minkowski distance\n",
        "- Manhattan distance\n",
        "- Euclidean distance\n",
        "- Hamming distance\n",
        "- Cosine distance\n",
        "\n",
        "3) problems with practical implementation? can we decrease the complexity?\n",
        "\n",
        "- . KNN works on low dimension dataset while faces problems when dealing with high dimensional data.\n",
        "- time and space complexity\n",
        "\n",
        "5)Any practical application using k-nearest? \n",
        "Thoughts:\n",
        "- KNN is a non-parametric learning algorithm, which means that it doesn't assume anything about the underlying data. This is an extremely useful feature since most of the real world data doesn't really follow any theoretical assumption e.g. linear-separability, uniform distribution, etc.\n",
        "\n",
        "- KNN can be used for Recommendation Systems. Although in the real world, more sophisticated algorithms are used for the recommendation system. KNN is not suitable for high dimensional data, but KNN is an excellent baseline approach for the systems. Many companies make a personalized recommendation for its consumers, such as Netflix, Amazon, YouTube, and many more.\n",
        "KNN can search for semantically similar documents. Each document is considered as a vector. If documents are close to each other, that means the documents contain identical topics.\n",
        "KNN can be effectively used in detecting outliers. One such example is Credit Card fraud detection.\n",
        "\n",
        "- The KNN algorithm have been widely used to find document similarity and pattern recognition. It has also been employed for developing recommender systems and for dimensionality reduction and pre-processing steps for computer vision, particularly face recognition tasks.\n",
        "\n",
        "6)Benefits/Drawbacks\n",
        "\n",
        "Pros\n",
        "\n",
        "It is extremely easy to implement\n",
        "As said earlier, it is lazy learning algorithm and therefore requires no training prior to making real time predictions. This makes the KNN algorithm much faster than other algorithms that require training e.g SVM, linear regression, etc.\n",
        "Since the algorithm requires no training before making predictions, new data can be added seamlessly.\n",
        "There are only two parameters required to implement KNN i.e. the value of K and the distance function (e.g. Euclidean or Manhattan etc.)\n",
        "\n",
        "\n",
        "\n",
        "Cons\n",
        "\n",
        "The KNN algorithm doesn't work well with high dimensional data because with large number of dimensions, it becomes difficult for the algorithm to calculate distance in each dimension.\n",
        "The KNN algorithm has a high prediction cost for large datasets. This is because in large datasets the cost of calculating distance between new point and each existing point becomes higher.\n",
        "Finally, the KNN algorithm doesn't work well with categorical features since it is difficult to find the distance between dimensions with categorical features.\n",
        "\n",
        "7) What are the practical issues in implementing this\n",
        "algorithm for spam filters on gmail? \n",
        "- Always spam will be more than not spam. data bias?\n",
        "- . KNN works on low dimension dataset while faces problems when dealing with high dimensional data.\n",
        "- personalized spam filter/recommeder?\n",
        "\n",
        "9) Classification / Regression\n",
        "Regression => value will be average of the neighbours\n",
        "\n",
        "10) Multiclass classification using KNN? what should be the value of K\n",
        "\n",
        "11) Ways to make the computation faster => calculating distance can be done as matrix operation instead of loop. (algorithm variations)\n",
        "\n",
        "12)  time complexity of this algorithm\n",
        "For the brute-force neighbor search of the kNN algorithm, we have a time complexity of\n",
        "O(n×m), where n is the number of training examples and m is the number of dimensions in\n",
        "the training set. For simplicity, assuming n >> m, the complexity of the brute-force nearest\n",
        "neighbor search is O(n).\n",
        "(https://sebastianraschka.com/pdf/lecture-notes/stat479fs18/02_knn_notes.pdf)\n",
        "\n",
        "\n",
        "https://stats.stackexchange.com/questions/219655/k-nn-computational-complexity\n",
        "First, let's consider a O(nd+kn) runtime algorithm:\n",
        "Initialize selectedi=0 for all observations i in the training set\n",
        "For each training set observation i, compute disti, the distance from the new observation to training set observation i\n",
        "For j=1 to k: Loop through all training set observations, selecting the index i with the smallest disti value and for which selectedi=0. Select this observation by setting selectedi=1.\n",
        "Return the k selected indices\n",
        "Each distance computation requires O(d) runtime, so the second step requires O(nd) runtime. For each iterate in the third step, we perform O(n) work by looping through the training set observations, so the step overall requires O(nk) work. The first and fourth steps only require O(n) work, so we get a O(nd+kn) runtime.\n",
        "\n",
        "13) beyond brute force knn\n",
        "- k-D trees\n",
        "- inverted lists\n",
        "- locally sensing hashing"
      ]
    },
    {
      "cell_type": "code",
      "metadata": {
        "id": "aFzjmMxMdPRb"
      },
      "source": [
        ""
      ],
      "execution_count": null,
      "outputs": []
    }
  ]
}