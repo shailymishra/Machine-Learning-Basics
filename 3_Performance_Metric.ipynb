{
  "nbformat": 4,
  "nbformat_minor": 0,
  "metadata": {
    "colab": {
      "name": "3. Performance Metric.ipynb",
      "provenance": [],
      "collapsed_sections": [],
      "authorship_tag": "ABX9TyNdNu39QPFc4e1yBTkEqQjK",
      "include_colab_link": true
    },
    "kernelspec": {
      "name": "python3",
      "display_name": "Python 3"
    },
    "language_info": {
      "name": "python"
    }
  },
  "cells": [
    {
      "cell_type": "markdown",
      "metadata": {
        "id": "view-in-github",
        "colab_type": "text"
      },
      "source": [
        "<a href=\"https://colab.research.google.com/github/shailymishra/Machine-Learning-Concepts/blob/master/3_Performance_Metric.ipynb\" target=\"_parent\"><img src=\"https://colab.research.google.com/assets/colab-badge.svg\" alt=\"Open In Colab\"/></a>"
      ]
    },
    {
      "cell_type": "markdown",
      "metadata": {
        "id": "HkAYi0BNTY46"
      },
      "source": [
        "1. Binary Classification, Multi-class Classification, Regression\n",
        "2. Which metric to chose\n",
        "3. Is Accuracy enough to judge a model\n",
        "4. How do you define evaluation of model?"
      ]
    },
    {
      "cell_type": "code",
      "metadata": {
        "id": "Ln6LJWllRhWX"
      },
      "source": [
        "##### Test data sets to demonstrate evluation metrics\n",
        "\n",
        "import numpy as np\n",
        "\n",
        "from sklearn.datasets import make_classification\n",
        "from sklearn.model_selection import train_test_split\n",
        "from sklearn.dummy import DummyClassifier\n",
        "\n",
        "\n",
        "################################################# Binary Classification y_pred, y_true ######################################################\n",
        "##### 1) most of the labels in 0 class\n",
        "X,y = make_classification(n_samples = 1000, n_classes=2,weights=[0.95,0.05], random_state=42)\n",
        "X_train,X_test,y_train,y_test = train_test_split(X,y,test_size=0.2,random_state=42)\n",
        "\n",
        "dummy = DummyClassifier(strategy='most_frequent', random_state=42)\n",
        "dummy.fit(X_train,y_train)\n",
        "y_pred = dummy.predict(X_test)\n",
        "y_true = y_test\n",
        "\n",
        "##### 2) svm classifier \n",
        "from sklearn.svm import SVC\n",
        "X, y = make_classification(random_state=0)\n",
        "X_train, X_test, y_train, y_test = train_test_split(  X, y, random_state=0)\n",
        "clf = SVC(random_state=0)\n",
        "clf.fit(X_train, y_train)\n",
        "y_pred = clf.predict(X_test)\n",
        "y_true = y_test\n",
        "\n",
        "\n",
        "################################################# Multi Classification ######################################################\n",
        "\n",
        "\n",
        "######################################################## Regression  #############################################################\n"
      ],
      "execution_count": 55,
      "outputs": []
    },
    {
      "cell_type": "code",
      "metadata": {
        "id": "etJJF1KfZiMm"
      },
      "source": [
        "### Performance metric - Self\n",
        "def calculate_accuracy(y_true,y_pred):\n",
        "  return np.sum(y_pred == y_true)/len(y_pred) * 100\n",
        "\n",
        "def calculate_confusion_metric(y_true,y_pred):\n",
        "  pass\n",
        "\n",
        "def plot_confusion_metric(y_true,y_pred):\n",
        "  pass\n",
        "\n",
        "def calculate_error(y_true,y_pred):\n",
        "  return np.mean(y_pred != y_true)\n",
        "\n",
        "\n"
      ],
      "execution_count": 2,
      "outputs": []
    },
    {
      "cell_type": "code",
      "metadata": {
        "colab": {
          "base_uri": "https://localhost:8080/"
        },
        "id": "aNQ0TRWJWoG1",
        "outputId": "5ecbec3d-60a6-47d2-d7c2-08ffd8de1b00"
      },
      "source": [
        "####### Self Written Methods\n",
        "\n",
        "########## 1. Accuracy ################\n",
        "accuracy = calculate_accuracy(y_true,y_pred)\n",
        "print(accuracy)\n"
      ],
      "execution_count": 3,
      "outputs": [
        {
          "output_type": "stream",
          "name": "stdout",
          "text": [
            "88.0\n"
          ]
        }
      ]
    },
    {
      "cell_type": "code",
      "metadata": {
        "id": "ygdn5X4HZ96n",
        "colab": {
          "base_uri": "https://localhost:8080/",
          "height": 1000
        },
        "outputId": "8f604343-64d5-4263-ad6c-722ba3f9dd01"
      },
      "source": [
        "##### Performance metric - sklearn\n",
        "##### https://scikit-learn.org/stable/modules/model_evaluation.html\n",
        "#######################################\n",
        "\n",
        "#################### BINARY CLASSIFICATION ##########################################\n",
        "\n",
        "from sklearn import metrics\n",
        "\n",
        "\n",
        "########## 1. Accuracy ################\n",
        "from sklearn.metrics import accuracy_score\n",
        "\n",
        "### Sklearn classifier direct score\n",
        "accuracy = clf.score(X_test,y_test)\n",
        "print(accuracy)\n",
        "accuracy = accuracy_score(y_true, y_pred)\n",
        "print(accuracy)\n",
        "\n",
        "\n",
        "########## 2. Confusion Marix ################\n",
        "from sklearn.metrics import confusion_matrix\n",
        "cm = confusion_matrix(y_true, y_pred)\n",
        "print(cm)\n",
        "## plot confusion matrix\n",
        "import matplotlib.pyplot as plt\n",
        "from sklearn.metrics import plot_confusion_matrix\n",
        "plot_confusion_matrix(clf, X_test, y_test)     ### plot using classifier as parameter\n",
        "plt.show()\n",
        "\n",
        "\n",
        "## Binary Classification\n",
        "############# 3. Precision ##########################\n",
        "############# 4. Recall    ##########################\n",
        "############# 5. F-Score   ##########################\n",
        "############# 6. Matthews Correlation Coefficient   ##########################\n",
        "\n",
        "\n",
        "precision = metrics.precision_score(y_true, y_pred)\n",
        "recall = metrics.recall_score(y_true, y_pred)\n",
        "f1score = metrics.f1_score(y_true, y_pred)\n",
        "mcc =  metrics.matthews_corrcoef(y_true, y_pred)\n",
        "print(precision)\n",
        "print(recall)\n",
        "print(recall)\n",
        "print(mcc)\n",
        "\n",
        "######################################################################################################\n",
        "####################### 7. ROC Curve #################################\n",
        "####################### 8. AUC - ROC Curve #################################\n",
        "\n",
        "falsepositiverate, truepositiverate, threshold = metrics.roc_curve(y_true, y_pred)\n",
        "print(falsepositiverate)\n",
        "print(recall)\n",
        "print(truepositiverate)\n",
        "### AUC method\n",
        "auc_roc = metrics.auc(falsepositiverate,truepositiverate)\n",
        "print('AUC roc', auc_roc)\n",
        "### direct AUC ROC\n",
        "auc_roc = metrics.roc_auc_score(y_true,y_pred)\n",
        "print('AUC roc', auc_roc)\n",
        "\n",
        "##########################################################\n",
        "#plot roc curve\n",
        "#### plotting using sns\n",
        "#### seaborn's plot returns an axis-object (not a figure). \n",
        "import seaborn as sns\n",
        "plt.figure()\n",
        "sns.lineplot([0,1],[0,1], linestyle='--', label='baseline')\n",
        "sns.lineplot(falsepositiverate,truepositiverate,marker='.',label='svm')\n",
        "# plt.set(xlabel='True Positive Rate', ylabel='False Positive Rate',title='ROC curve')\n",
        "plt.show()\n",
        "##########################################################3\n",
        "\n",
        "##########################################################3\n",
        "################ comparing against dummy ######################\n",
        "# falsepositiverate, truepositiverate, threshold = metrics.roc_curve(y_true, dummy.predict(X_test))\n",
        "# plt = sns.lineplot(falsepositiverate,truepositiverate,marker='.')\n",
        "##########################################################3\n",
        "\n",
        "\n",
        "####################### 9. Precision Recall Curve #################################\n",
        "####################### 10. Precision Recall Curve-AUC #################################\n",
        "precision, recall, threshold = metrics.precision_recall_curve(y_true, y_pred)\n",
        "print(precision)\n",
        "print(recall)\n",
        "print(threshold)\n",
        "### AUC method\n",
        "auc_roc = metrics.auc(recall,precision)\n",
        "print('AUC roc', auc_roc)\n",
        "plt.figure()\n",
        "sns.lineplot([0,1],[0.5,0.5], linestyle='--',label='baseline')\n",
        "sns.lineplot(recall,precision,marker='.',label='svm classifier')\n",
        "# plt.set(xlabel='Recall', ylabel='Precision')\n",
        "plt.show()\n",
        "\n",
        "\n",
        "\n",
        "####################### 11. Log-Loss #################################\n",
        "logloss = metrics.log_loss(y_true,y_pred)\n",
        "print('Logloss',logloss)"
      ],
      "execution_count": 48,
      "outputs": [
        {
          "output_type": "stream",
          "name": "stdout",
          "text": [
            "0.88\n",
            "0.88\n",
            "[[12  1]\n",
            " [ 2 10]]\n"
          ]
        },
        {
          "output_type": "display_data",
          "data": {
            "image/png": "[encoded data removed]",
            "text/plain": [
              "<Figure size 432x288 with 2 Axes>"
            ]
          },
          "metadata": {
            "needs_background": "light"
          }
        },
        {
          "output_type": "stream",
          "name": "stdout",
          "text": [
            "0.9090909090909091\n",
            "0.8333333333333334\n",
            "0.8333333333333334\n",
            "0.761306166786451\n",
            "[0.         0.07692308 1.        ]\n",
            "0.8333333333333334\n",
            "[0.         0.83333333 1.        ]\n",
            "AUC roc 0.8782051282051283\n",
            "AUC roc 0.8782051282051283\n"
          ]
        },
        {
          "output_type": "stream",
          "name": "stderr",
          "text": [
            "/usr/local/lib/python3.7/dist-packages/seaborn/_decorators.py:43: FutureWarning: Pass the following variables as keyword args: x, y. From version 0.12, the only valid positional argument will be `data`, and passing other arguments without an explicit keyword will result in an error or misinterpretation.\n",
            "  FutureWarning\n",
            "/usr/local/lib/python3.7/dist-packages/seaborn/_decorators.py:43: FutureWarning: Pass the following variables as keyword args: x, y. From version 0.12, the only valid positional argument will be `data`, and passing other arguments without an explicit keyword will result in an error or misinterpretation.\n",
            "  FutureWarning\n"
          ]
        },
        {
          "output_type": "display_data",
          "data": {
            "image/png": "[encoded data removed]",
            "text/plain": [
              "<Figure size 432x288 with 1 Axes>"
            ]
          },
          "metadata": {
            "needs_background": "light"
          }
        },
        {
          "output_type": "stream",
          "name": "stdout",
          "text": [
            "[0.48       0.90909091 1.        ]\n",
            "[1.         0.83333333 0.        ]\n",
            "[0 1]\n",
            "AUC roc 0.9112121212121213\n"
          ]
        },
        {
          "output_type": "stream",
          "name": "stderr",
          "text": [
            "/usr/local/lib/python3.7/dist-packages/seaborn/_decorators.py:43: FutureWarning: Pass the following variables as keyword args: x, y. From version 0.12, the only valid positional argument will be `data`, and passing other arguments without an explicit keyword will result in an error or misinterpretation.\n",
            "  FutureWarning\n",
            "/usr/local/lib/python3.7/dist-packages/seaborn/_decorators.py:43: FutureWarning: Pass the following variables as keyword args: x, y. From version 0.12, the only valid positional argument will be `data`, and passing other arguments without an explicit keyword will result in an error or misinterpretation.\n",
            "  FutureWarning\n"
          ]
        },
        {
          "output_type": "display_data",
          "data": {
            "image/png": "[encoded data removed]",
            "text/plain": [
              "<Figure size 432x288 with 1 Axes>"
            ]
          },
          "metadata": {
            "needs_background": "light"
          }
        },
        {
          "output_type": "stream",
          "name": "stdout",
          "text": [
            "Logloss 4.14468515128649\n"
          ]
        }
      ]
    },
    {
      "cell_type": "code",
      "metadata": {
        "colab": {
          "base_uri": "https://localhost:8080/",
          "height": 405
        },
        "id": "B2MyisV461Bg",
        "outputId": "21913a0b-724e-478f-9a87-7c28c844899d"
      },
      "source": [
        "###############################################################################################\n",
        "########################### Multi-Class Cliassification #######################################\n",
        "###############################################################################################\n",
        "\n",
        "y_true = [\"cat\",\"cat\",\"dog\",\"bird\",\"dog\",\"cat\",\"bird\",\"cat\",\"dog\"]\n",
        "y_pred = [\"bird\",\"cat\",\"dog\",\"bird\",\"cat\",\"dog\",\"bird\",\"cat\",\"dog\"]\n",
        "\n",
        "\n",
        "from sklearn import metrics\n",
        "\n",
        "\n",
        "########## 1. Accuracy ################\n",
        "### Sklearn classifier direct score\n",
        "accuracy = metrics.accuracy_score(y_true, y_pred)\n",
        "print('Accuracy',accuracy)\n",
        "\n",
        "########## 2. Confusion Marix ################\n",
        "from sklearn.metrics import confusion_matrix\n",
        "cm = confusion_matrix(y_true, y_pred)\n",
        "print(cm)\n",
        "## plot confusion matrix\n",
        "import matplotlib.pyplot as plt\n",
        "from sklearn.metrics import plot_confusion_matrix\n",
        "disp = metrics.ConfusionMatrixDisplay(confusion_matrix=cm,   display_labels=[\"bird\",\"cat\",\"dog\"])\n",
        "disp.plot()\n",
        "# plot_confusion_matrix(clf, X_test, y_test)     ### plot using classifier as parameter\n",
        "plt.show()\n",
        "\n",
        "\n",
        "## Binary Classification\n",
        "############# 3. Precision ##########################\n",
        "############# 4. Recall    ##########################\n",
        "############# 5. F-Score   ##########################\n",
        "\n",
        "\n",
        "precision = metrics.precision_score(y_true, y_pred,average=\"macro\")\n",
        "print('macro precision' , precision)\n",
        "precision = metrics.precision_score(y_true, y_pred,average=\"micro\")\n",
        "print('macro precision' , precision)\n",
        "precision = metrics.precision_score(y_true, y_pred,average=\"weighted\")\n",
        "print('weighted precision' , precision)\n",
        "\n",
        "###########################################\n",
        "############### 6. Multi-class logloss ###############################\n",
        "#### Image"
      ],
      "execution_count": 50,
      "outputs": [
        {
          "output_type": "stream",
          "name": "stdout",
          "text": [
            "Accuracy 0.6666666666666666\n",
            "[[2 0 0]\n",
            " [1 2 1]\n",
            " [0 1 2]]\n"
          ]
        },
        {
          "output_type": "display_data",
          "data": {
            "image/png": "[encoded data removed]",
            "text/plain": [
              "<Figure size 432x288 with 2 Axes>"
            ]
          },
          "metadata": {
            "needs_background": "light"
          }
        },
        {
          "output_type": "stream",
          "name": "stdout",
          "text": [
            "macro precision 0.6666666666666666\n",
            "macro precision 0.6666666666666666\n",
            "weighted precision 0.6666666666666666\n"
          ]
        }
      ]
    },
    {
      "cell_type": "code",
      "metadata": {
        "colab": {
          "base_uri": "https://localhost:8080/"
        },
        "id": "LBxPxSsYG1xs",
        "outputId": "1ea40784-c555-40ea-8178-0098827293c3"
      },
      "source": [
        "#################################################################################################\n",
        "####################################### Regression ##############################################\n",
        "#################################################################################################\n",
        "\n",
        "y_true = np.random.rand(20)\n",
        "y_pred = np.random.rand(20)\n",
        "# print(y_true)\n",
        "\n",
        "###################################### 1. R Squared ###########################################\n",
        "r2score = metrics.r2_score(y_true, y_pred)\n",
        "print('r2score',r2score)\n",
        "# Of course, technically, R squared can be negative - say, the model is always predicting an infinitely large number, but if you’re getting a negative R squared, this means something is seriously wrong either with the model, or, perhaps, with the data.\n",
        "\n",
        "mae = metrics.mean_absolute_error(y_true, y_pred)\n",
        "print('mae',mae)\n",
        "\n",
        "mse = metrics.mean_squared_error(y_true, y_pred)\n",
        "print('mse',mse)\n",
        "\n",
        "rmse = np.sqrt(metrics.mean_squared_error(y_true, y_pred))\n",
        "print('rmse',rmse)\n",
        "### I find that RMSE is a good choice for an evaluation metric, and MAE can be useful in those cases when it is important to downplay the outliers.\n",
        "\n",
        "rmsle = np.sqrt(metrics.mean_squared_log_error(y_true,y_pred))\n",
        "print('rmsle',rmsle)\n",
        "\n",
        "####\n",
        "# What taking a log here gives us is a measure or relative error. This metric is best to use when targets are having exponential growth, such as population counts, average sales of a commodity over a span of years etc. This metric allows to take the scale of the values into account, e.g. the error of 5 dollars in a 50 dollars purchase is a significant error, whereas the same error of 5 dollars in a 500 000 dollars purchase is much less important."
      ],
      "execution_count": 69,
      "outputs": [
        {
          "output_type": "stream",
          "name": "stdout",
          "text": [
            "r2score -1.9661374885190597\n",
            "mae 0.4012565041216217\n",
            "mse 0.24549151011334178\n",
            "rmse 0.4954709982565496\n",
            "rmsle 0.3438233866525116\n"
          ]
        }
      ]
    },
    {
      "cell_type": "markdown",
      "metadata": {
        "id": "tN5OZUk9ToLj"
      },
      "source": [
        "Evlauation should always be done with resepect to what we know.\n",
        "That is what is the prior we have.\n",
        "\n",
        "For example, if we know that 95% emails are spam, then if you model just can say that a email is spam, and 95% of times it is right.\n",
        "So in that case accuracy is not the right metric.\n",
        "\n",
        "Morever what is your object is highly important.\n",
        "- For spam, our goal is to minimize false positive (classifying important emails as spam)\n",
        "- For disease, our goal is to minimize false negative (always better to again take test if given positive, rather than declaring the person negative)\n",
        "\n",
        "![picture](https://github.com/shailymishra/Machine-Learning-Concepts/blob/master/images/performance metric.png?raw=true)\n",
        "\n",
        "### For more details\n",
        "\n",
        "\n",
        "https://www.mariakhalusova.com/posts/2019-04-11-ml-model-evaluation-metrics-p1/\n",
        "\n",
        "https://www.mariakhalusova.com/posts/2019-04-24-ml-model-evaluation-metrics-p3/\n",
        "\n",
        "https://www.evernote.com/shard/s592/sh/0666f0e7-3aff-0a3e-6096-b8a987336baf/1bfe459a9527ba67fa08eba1779dcf99"
      ]
    },
    {
      "cell_type": "code",
      "metadata": {
        "id": "C5t8m75vUOKm"
      },
      "source": [
        ""
      ],
      "execution_count": null,
      "outputs": []
    }
  ]
}