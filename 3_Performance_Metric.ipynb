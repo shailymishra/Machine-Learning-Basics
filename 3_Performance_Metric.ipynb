{
  "nbformat": 4,
  "nbformat_minor": 0,
  "metadata": {
    "colab": {
      "name": "3. Performance Metric.ipynb",
      "provenance": [],
      "authorship_tag": "ABX9TyMCdtvcezl0GoV0vNBR9eBd",
      "include_colab_link": true
    },
    "kernelspec": {
      "name": "python3",
      "display_name": "Python 3"
    },
    "language_info": {
      "name": "python"
    }
  },
  "cells": [
    {
      "cell_type": "markdown",
      "metadata": {
        "id": "view-in-github",
        "colab_type": "text"
      },
      "source": [
        "<a href=\"https://colab.research.google.com/github/shailymishra/Machine-Learning-Concepts/blob/master/3_Performance_Metric.ipynb\" target=\"_parent\"><img src=\"https://colab.research.google.com/assets/colab-badge.svg\" alt=\"Open In Colab\"/></a>"
      ]
    },
    {
      "cell_type": "code",
      "metadata": {
        "id": "etJJF1KfZiMm"
      },
      "source": [
        "### Performance metric\n",
        "def calculate_accuracy(y_true,y_pred):\n",
        "  return np.sum(y_pred == y_true)/len(y_pred) * 100\n",
        "\n",
        "def calculate_error(y_true,y_pred):\n",
        "  return np.mean(y_pred != y_true)\n",
        "\n",
        "\n"
      ],
      "execution_count": 1,
      "outputs": []
    },
    {
      "cell_type": "code",
      "metadata": {
        "id": "ygdn5X4HZ96n"
      },
      "source": [
        "###################\n",
        "########## K-fold #####\n",
        "###################\n"
      ],
      "execution_count": null,
      "outputs": []
    }
  ]
}